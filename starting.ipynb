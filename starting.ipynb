{
  "nbformat": 4,
  "nbformat_minor": 0,
  "metadata": {
    "colab": {
      "provenance": [],
      "authorship_tag": "ABX9TyNS0FTwzN5h10OGVOcTSqgT",
      "include_colab_link": true
    },
    "kernelspec": {
      "name": "python3",
      "display_name": "Python 3"
    },
    "language_info": {
      "name": "python"
    }
  },
  "cells": [
    {
      "cell_type": "markdown",
      "metadata": {
        "id": "view-in-github",
        "colab_type": "text"
      },
      "source": [
        "<a href=\"https://colab.research.google.com/github/Tanbeer191/learning/blob/main/starting.ipynb\" target=\"_parent\"><img src=\"https://colab.research.google.com/assets/colab-badge.svg\" alt=\"Open In Colab\"/></a>"
      ]
    },
    {
      "cell_type": "code",
      "source": [
        "marks = int(input(\"Input a number between 0 and 100:\"))\n",
        "\n",
        "print(\"Your grade:\")\n",
        "if marks < 50:\n",
        "  print(\"U\")\n",
        "elif marks > 50 and marks < 69:\n",
        "  print(\"Pass\")\n",
        "elif marks > 70 and marks < 89:\n",
        "  print(\"Merit\")\n",
        "elif marks > 90 and marks < 100:\n",
        "  print(\"Distinction\")\n",
        "else:\n",
        "  print(\"Invalid Score!\")"
      ],
      "metadata": {
        "colab": {
          "base_uri": "https://localhost:8080/"
        },
        "id": "-GCbvvTz5hHk",
        "outputId": "5febc4a0-2b7e-4f31-c828-da328bac5dec"
      },
      "execution_count": null,
      "outputs": [
        {
          "output_type": "stream",
          "name": "stdout",
          "text": [
            "Input a number between 0 and 100:70\n",
            "Your grade:\n",
            "Invalid Score!\n"
          ]
        }
      ]
    },
    {
      "cell_type": "code",
      "source": [
        "! python --version"
      ],
      "metadata": {
        "colab": {
          "base_uri": "https://localhost:8080/"
        },
        "id": "rdbPFAFO_pwy",
        "outputId": "29099c62-5c7a-434d-9e87-2f800aed5cca"
      },
      "execution_count": 1,
      "outputs": [
        {
          "output_type": "stream",
          "name": "stdout",
          "text": [
            "Python 3.7.15\n"
          ]
        }
      ]
    },
    {
      "cell_type": "code",
      "source": [
        "print(\"Hello World\")"
      ],
      "metadata": {
        "id": "dpwauaDAFkoh",
        "outputId": "9251af19-7fb1-473d-8bb3-2d518e48db84",
        "colab": {
          "base_uri": "https://localhost:8080/"
        }
      },
      "execution_count": 2,
      "outputs": [
        {
          "output_type": "stream",
          "name": "stdout",
          "text": [
            "Hello World\n"
          ]
        }
      ]
    },
    {
      "cell_type": "code",
      "source": [
        "words = \"Hello World\"\n",
        "long_words = \"\"\" Thousands of\n",
        "                  Hello World \"\"\"\n",
        "two_long_words = \"Thousands of \\n Hello World\"\n",
        "\n",
        "print(two_long_words)"
      ],
      "metadata": {
        "id": "zEghagzrH3g7",
        "outputId": "37158a49-8c10-443c-ab82-7b4a264aaff5",
        "colab": {
          "base_uri": "https://localhost:8080/"
        }
      },
      "execution_count": 5,
      "outputs": [
        {
          "output_type": "stream",
          "name": "stdout",
          "text": [
            "Thousands of \n",
            " Hello World\n"
          ]
        }
      ]
    }
  ]
}