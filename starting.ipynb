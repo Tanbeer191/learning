{
  "nbformat": 4,
  "nbformat_minor": 0,
  "metadata": {
    "colab": {
      "provenance": [],
      "authorship_tag": "ABX9TyOuXWLDjIPZKxkCwu8ed3n/",
      "include_colab_link": true
    },
    "kernelspec": {
      "name": "python3",
      "display_name": "Python 3"
    },
    "language_info": {
      "name": "python"
    }
  },
  "cells": [
    {
      "cell_type": "markdown",
      "metadata": {
        "id": "view-in-github",
        "colab_type": "text"
      },
      "source": [
        "<a href=\"https://colab.research.google.com/github/Tanbeer191/learning/blob/main/starting.ipynb\" target=\"_parent\"><img src=\"https://colab.research.google.com/assets/colab-badge.svg\" alt=\"Open In Colab\"/></a>"
      ]
    },
    {
      "cell_type": "code",
      "source": [
        "marks = int(input(\"Input a number between 0 and 100:\"))\n",
        "\n",
        "print(\"Your grade:\")\n",
        "if marks < 50:\n",
        "  print(\"U\")\n",
        "elif marks > 50 and marks < 69:\n",
        "  print(\"Pass\")\n",
        "elif marks > 70 and marks < 89:\n",
        "  print(\"Merit\")\n",
        "elif marks > 90 and marks < 100:\n",
        "  print(\"Distinction\")\n",
        "else:\n",
        "  print(\"Invalid Score!\")"
      ],
      "metadata": {
        "colab": {
          "base_uri": "https://localhost:8080/"
        },
        "id": "-GCbvvTz5hHk",
        "outputId": "5febc4a0-2b7e-4f31-c828-da328bac5dec"
      },
      "execution_count": null,
      "outputs": [
        {
          "output_type": "stream",
          "name": "stdout",
          "text": [
            "Input a number between 0 and 100:70\n",
            "Your grade:\n",
            "Invalid Score!\n"
          ]
        }
      ]
    },
    {
      "cell_type": "code",
      "source": [
        "! python --version"
      ],
      "metadata": {
        "colab": {
          "base_uri": "https://localhost:8080/",
          "height": 0
        },
        "id": "rdbPFAFO_pwy",
        "outputId": "29099c62-5c7a-434d-9e87-2f800aed5cca"
      },
      "execution_count": 1,
      "outputs": [
        {
          "output_type": "stream",
          "name": "stdout",
          "text": [
            "Python 3.7.15\n"
          ]
        }
      ]
    },
    {
      "cell_type": "code",
      "source": [
        "print(\"Hello World\")"
      ],
      "metadata": {
        "colab": {
          "base_uri": "https://localhost:8080/",
          "height": 0
        },
        "id": "dpwauaDAFkoh",
        "outputId": "9251af19-7fb1-473d-8bb3-2d518e48db84"
      },
      "execution_count": 2,
      "outputs": [
        {
          "output_type": "stream",
          "name": "stdout",
          "text": [
            "Hello World\n"
          ]
        }
      ]
    },
    {
      "cell_type": "code",
      "source": [
        "words = \"Hello World\"\n",
        "long_words = \"\"\" Thousands of\n",
        "                  Hello World \"\"\"\n",
        "two_long_words = \"Thousands of \\n Hello World\"\n",
        "\n",
        "print(two_long_words)"
      ],
      "metadata": {
        "colab": {
          "base_uri": "https://localhost:8080/",
          "height": 0
        },
        "id": "zEghagzrH3g7",
        "outputId": "37158a49-8c10-443c-ab82-7b4a264aaff5"
      },
      "execution_count": 5,
      "outputs": [
        {
          "output_type": "stream",
          "name": "stdout",
          "text": [
            "Thousands of \n",
            " Hello World\n"
          ]
        }
      ]
    },
    {
      "cell_type": "code",
      "source": [
        "a = 3\n",
        "b = a\n",
        "print(b)"
      ],
      "metadata": {
        "colab": {
          "base_uri": "https://localhost:8080/",
          "height": 0
        },
        "id": "dnokL4SdIgwY",
        "outputId": "231c2f09-03c7-4487-f8e6-1d41c69c9ac5"
      },
      "execution_count": 7,
      "outputs": [
        {
          "output_type": "stream",
          "name": "stdout",
          "text": [
            "3\n"
          ]
        }
      ]
    },
    {
      "cell_type": "code",
      "source": [
        "x = 1.5\n",
        "y = 3+2j\n",
        "\n",
        "print(type(a), type(x), type(y))"
      ],
      "metadata": {
        "colab": {
          "base_uri": "https://localhost:8080/",
          "height": 0
        },
        "id": "JK1MpBMnI0HY",
        "outputId": "5f60f112-49c5-454d-895a-7b44ea2c53cc"
      },
      "execution_count": 10,
      "outputs": [
        {
          "output_type": "stream",
          "name": "stdout",
          "text": [
            "3\n",
            "<class 'int'> <class 'float'> <class 'complex'>\n"
          ]
        }
      ]
    },
    {
      "cell_type": "code",
      "source": [
        "tuple = (5, 6, 23, 4.5, \"a\", \"html\", (3, 4, 5), \"end\")\n",
        "\n",
        "x = [5, 6, 23, 4.5, \"a\", \"html\", (3, 4, 5), \"end\"]\n",
        "\n",
        "x[1] = \"change\" # changing the value of the 2nd item of the list\n",
        "\n",
        "# dictionary\n",
        "# x = (\n",
        "#     \"5\": \"This is 5\"\n",
        "#   \"a\": \"This is a\"\n",
        "#    \"end\": 0\n",
        "#)"
      ],
      "metadata": {
        "id": "uDZRmoqrJgWA"
      },
      "execution_count": 31,
      "outputs": []
    },
    {
      "cell_type": "code",
      "source": [
        "a = 10\n",
        "while a > 0:\n",
        "  print(a)\n",
        "  a = a -1"
      ],
      "metadata": {
        "id": "GIVigFoOK_CU",
        "outputId": "c7f6bf90-2373-4a18-cbc2-d7e187ea31c6",
        "colab": {
          "base_uri": "https://localhost:8080/",
          "height": 0
        }
      },
      "execution_count": 28,
      "outputs": [
        {
          "output_type": "stream",
          "name": "stdout",
          "text": [
            "10\n",
            "9\n",
            "8\n",
            "7\n",
            "6\n",
            "5\n",
            "4\n",
            "3\n",
            "2\n",
            "1\n"
          ]
        }
      ]
    },
    {
      "cell_type": "code",
      "source": [
        "a = 10\n",
        "for i in range(a):\n",
        "  print(\"i is\", i)\n",
        "  print(\"a is\", a)"
      ],
      "metadata": {
        "id": "6Keam_yhLMmM",
        "outputId": "f09276ee-50c5-4872-d248-52b4dc1c7d46",
        "colab": {
          "base_uri": "https://localhost:8080/",
          "height": 0
        }
      },
      "execution_count": 29,
      "outputs": [
        {
          "output_type": "stream",
          "name": "stdout",
          "text": [
            "i is 0\n",
            "a is 10\n",
            "i is 1\n",
            "a is 10\n",
            "i is 2\n",
            "a is 10\n",
            "i is 3\n",
            "a is 10\n",
            "i is 4\n",
            "a is 10\n",
            "i is 5\n",
            "a is 10\n",
            "i is 6\n",
            "a is 10\n",
            "i is 7\n",
            "a is 10\n",
            "i is 8\n",
            "a is 10\n",
            "i is 9\n",
            "a is 10\n"
          ]
        }
      ]
    },
    {
      "cell_type": "code",
      "source": [
        "a = input(\"Please type a number:\")\n",
        "if type(a) is int:\n",
        "  print(\"integer\", a)\n",
        "elif type(a) is str:\n",
        "  print(\"string\", a)\n",
        "else:\n",
        "  print(type(a))"
      ],
      "metadata": {
        "id": "tflhgotVLzL7",
        "outputId": "d033885f-22a3-4364-8ecc-62fe1452cdcb",
        "colab": {
          "base_uri": "https://localhost:8080/"
        }
      },
      "execution_count": 36,
      "outputs": [
        {
          "output_type": "stream",
          "name": "stdout",
          "text": [
            "Please type a number:13\n",
            "string 13\n"
          ]
        }
      ]
    },
    {
      "cell_type": "code",
      "source": [
        "a,b = 1,2\n",
        "if a == 1 and b == 3:\n",
        "  print(a + b)\n",
        "elif a == 1 or a == 3:\n",
        "  print(a - b)\n",
        "else:\n",
        "  print(a * b)"
      ],
      "metadata": {
        "id": "YWFu-2JqNDJO",
        "outputId": "7fa23419-6bdc-4175-97c9-67031684f401",
        "colab": {
          "base_uri": "https://localhost:8080/"
        }
      },
      "execution_count": 37,
      "outputs": [
        {
          "output_type": "stream",
          "name": "stdout",
          "text": [
            "-1\n"
          ]
        }
      ]
    },
    {
      "cell_type": "code",
      "source": [
        "def my_func(a,b):\n",
        "  print(\"I am returning square numbers\")\n",
        "  return a**2,b**2\n",
        "\n",
        "result = my_func(4,7)\n",
        "print(result)\n"
      ],
      "metadata": {
        "id": "BMsJEHM-NwF7",
        "outputId": "bc4e5b3b-759c-4509-fd71-5af803848863",
        "colab": {
          "base_uri": "https://localhost:8080/"
        }
      },
      "execution_count": 45,
      "outputs": [
        {
          "output_type": "stream",
          "name": "stdout",
          "text": [
            "I am returning square numbers\n",
            "(16, 49)\n"
          ]
        }
      ]
    },
    {
      "cell_type": "code",
      "source": [
        "from math import sin, pi\n",
        "\n",
        "result = sin.degrees(30)\n",
        "print(result)"
      ],
      "metadata": {
        "id": "kbpxpAlCPJaD"
      },
      "execution_count": null,
      "outputs": []
    },
    {
      "cell_type": "code",
      "source": [
        "nums = [6,4,3,1,54,93, 23]\n",
        "target = 29\n",
        "\n",
        "x = 0\n",
        "y = 1\n",
        "\n",
        "z = x + y\n",
        "\n",
        "while True:\n",
        "  result = nums[x] + nums[x + y]\n",
        "  if result == target:\n",
        "      print([x, x + y])\n",
        "      break\n",
        "  elif x + y != len(nums) - 1:\n",
        "        y = y + 1\n",
        "  elif x + y == len(nums) - 1:\n",
        "    x = x + 1\n",
        "    y = 0"
      ],
      "metadata": {
        "id": "BYsAGn06SaEl",
        "outputId": "e2b0f58f-022a-4972-8843-4309a5d15000",
        "colab": {
          "base_uri": "https://localhost:8080/"
        }
      },
      "execution_count": 149,
      "outputs": [
        {
          "output_type": "stream",
          "name": "stdout",
          "text": [
            "[0, 6]\n"
          ]
        }
      ]
    },
    {
      "cell_type": "code",
      "source": [],
      "metadata": {
        "id": "ooCWrju1fVBE"
      },
      "execution_count": null,
      "outputs": []
    }
  ]
}