{
  "nbformat": 4,
  "nbformat_minor": 0,
  "metadata": {
    "colab": {
      "provenance": [],
      "authorship_tag": "ABX9TyMBFBw+ZjpBZI+e3aIqBnvv",
      "include_colab_link": true
    },
    "kernelspec": {
      "name": "python3",
      "display_name": "Python 3"
    },
    "language_info": {
      "name": "python"
    }
  },
  "cells": [
    {
      "cell_type": "markdown",
      "metadata": {
        "id": "view-in-github",
        "colab_type": "text"
      },
      "source": [
        "<a href=\"https://colab.research.google.com/github/Tanbeer191/learning/blob/main/starting.ipynb\" target=\"_parent\"><img src=\"https://colab.research.google.com/assets/colab-badge.svg\" alt=\"Open In Colab\"/></a>"
      ]
    },
    {
      "cell_type": "code",
      "source": [
        "marks = int(input(\"Input a number between 0 and 100:\"))\n",
        "\n",
        "print(\"Your grade:\")\n",
        "if marks < 50:\n",
        "  print(\"U\")\n",
        "elif marks > 50 and marks < 69:\n",
        "  print(\"Pass\")\n",
        "elif marks > 70 and marks < 89:\n",
        "  print(\"Merit\")\n",
        "elif marks > 90 and marks < 100:\n",
        "  print(\"Distinction\")\n",
        "else:\n",
        "  print(\"Invalid Score!\")"
      ],
      "metadata": {
        "colab": {
          "base_uri": "https://localhost:8080/"
        },
        "id": "-GCbvvTz5hHk",
        "outputId": "5febc4a0-2b7e-4f31-c828-da328bac5dec"
      },
      "execution_count": null,
      "outputs": [
        {
          "output_type": "stream",
          "name": "stdout",
          "text": [
            "Input a number between 0 and 100:70\n",
            "Your grade:\n",
            "Invalid Score!\n"
          ]
        }
      ]
    },
    {
      "cell_type": "code",
      "source": [
        "! python --version"
      ],
      "metadata": {
        "colab": {
          "base_uri": "https://localhost:8080/"
        },
        "id": "rdbPFAFO_pwy",
        "outputId": "29099c62-5c7a-434d-9e87-2f800aed5cca"
      },
      "execution_count": 1,
      "outputs": [
        {
          "output_type": "stream",
          "name": "stdout",
          "text": [
            "Python 3.7.15\n"
          ]
        }
      ]
    }
  ]
}